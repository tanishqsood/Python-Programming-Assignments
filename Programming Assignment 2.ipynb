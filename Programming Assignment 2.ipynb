{
 "cells": [
  {
   "cell_type": "markdown",
   "id": "4ca5a864",
   "metadata": {},
   "source": [
    "1. Write a Python program to convert kilometers to miles?"
   ]
  },
  {
   "cell_type": "code",
   "execution_count": 1,
   "id": "ac1d7c01",
   "metadata": {},
   "outputs": [
    {
     "name": "stdout",
     "output_type": "stream",
     "text": [
      "enter the value of car speed in km: 130\n",
      "80.77823000000001\n"
     ]
    }
   ],
   "source": [
    "a = int(input(\"enter the value of car speed in km: \"))\n",
    "b = 0.621371 #this is the conversion ratio of km to miles\n",
    "c = a*b\n",
    "print(c) #answer in miles"
   ]
  },
  {
   "cell_type": "markdown",
   "id": "db28f324",
   "metadata": {},
   "source": [
    "2. Write a Python program to convert Celsius to Fahrenheit?"
   ]
  },
  {
   "cell_type": "code",
   "execution_count": 2,
   "id": "bab11ad4",
   "metadata": {},
   "outputs": [
    {
     "name": "stdout",
     "output_type": "stream",
     "text": [
      "enter the value in Celsius : 111\n",
      "231.8\n"
     ]
    }
   ],
   "source": [
    "a = int(input(\"enter the value in Celsius : \")) #taking value in degree Celsius\n",
    "b = (a* 1.8) + 32 #conversion for C to F \n",
    "print(b) # final value in Fahrenheit"
   ]
  },
  {
   "cell_type": "markdown",
   "id": "ac6bd16c",
   "metadata": {},
   "source": [
    "3. Write a Python program to display calendar?"
   ]
  },
  {
   "cell_type": "code",
   "execution_count": 4,
   "id": "6bdcf75d",
   "metadata": {},
   "outputs": [
    {
     "name": "stdout",
     "output_type": "stream",
     "text": [
      "    January 2022\n",
      "Mo Tu We Th Fr Sa Su\n",
      "                1  2\n",
      " 3  4  5  6  7  8  9\n",
      "10 11 12 13 14 15 16\n",
      "17 18 19 20 21 22 23\n",
      "24 25 26 27 28 29 30\n",
      "31\n",
      "\n"
     ]
    }
   ],
   "source": [
    "import calendar\n",
    "year = 2022 \n",
    "month = 1\n",
    "\n",
    "print(calendar.month(year,month))\n"
   ]
  },
  {
   "cell_type": "markdown",
   "id": "e6a9d435",
   "metadata": {},
   "source": [
    "4. Write a Python program to solve quadratic equation?"
   ]
  },
  {
   "cell_type": "code",
   "execution_count": 11,
   "id": "a1d1fbfe",
   "metadata": {},
   "outputs": [
    {
     "name": "stdout",
     "output_type": "stream",
     "text": [
      "The solution are (-1.6666666666666667-0.9428090415820635j) and (-1.6666666666666667+0.9428090415820635j)\n"
     ]
    }
   ],
   "source": [
    "import cmath\n",
    "x = 3\n",
    "y = 10 \n",
    "z = 11\n",
    "\n",
    "d = (y**2) - (4*x*z) #discriminant calculation\n",
    "\n",
    "sol1 = (-y-cmath.sqrt(d))/(2*x)\n",
    "sol2 = (-y+cmath.sqrt(d))/(2*x)\n",
    "\n",
    "print('The solution are {0} and {1}'.format(sol1,sol2))\n"
   ]
  },
  {
   "cell_type": "markdown",
   "id": "c8508db4",
   "metadata": {},
   "source": [
    "5. Write a Python program to swap two variables without temp variable?"
   ]
  },
  {
   "cell_type": "code",
   "execution_count": 11,
   "id": "cf02ae26",
   "metadata": {},
   "outputs": [
    {
     "name": "stdout",
     "output_type": "stream",
     "text": [
      "enter the value 1: 2\n",
      "enter the value 2: 4\n",
      "8 -4\n"
     ]
    }
   ],
   "source": [
    "t = int(input(\"enter the value 1: \"))\n",
    "s = int(input(\"enter the value 2: \"))\n",
    "t = t*s\n",
    "s = s-t\n",
    "print(t,s)"
   ]
  }
 ],
 "metadata": {
  "kernelspec": {
   "display_name": "Python 3 (ipykernel)",
   "language": "python",
   "name": "python3"
  },
  "language_info": {
   "codemirror_mode": {
    "name": "ipython",
    "version": 3
   },
   "file_extension": ".py",
   "mimetype": "text/x-python",
   "name": "python",
   "nbconvert_exporter": "python",
   "pygments_lexer": "ipython3",
   "version": "3.9.12"
  }
 },
 "nbformat": 4,
 "nbformat_minor": 5
}
